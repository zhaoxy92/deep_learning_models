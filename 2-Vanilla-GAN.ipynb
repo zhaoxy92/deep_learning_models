{
 "cells": [
  {
   "cell_type": "code",
   "execution_count": null,
   "metadata": {},
   "outputs": [],
   "source": [
    "import torch\n",
    "from torch import nn, optim\n",
    "from torch.autograd.variable import Variable\n",
    "from torchvision import transforms, datasets"
   ]
  },
  {
   "cell_type": "code",
   "execution_count": null,
   "metadata": {
    "collapsed": true
   },
   "outputs": [],
   "source": [
    "class DiscriminatorNet(nn.Module):\n",
    "    \n",
    "    def __init__(self):\n",
    "        super(DiscriminatorNet, self).__init__()\n",
    "        n_feature = 784\n",
    "        n_out = 1\n",
    "        \n",
    "        self.hidden = nn.Sequential(\n",
    "            nn.Linear(n_feature, 512),\n",
    "            nn.LeakyReLU(0.2),\n",
    "            nn.Dropout(0.3)\n",
    "        )\n",
    "        \n",
    "        self.out = nn.Sequential(\n",
    "            nn.Linear(512, n_out),\n",
    "            nn.Sigmoid()\n",
    "        )\n",
    "    \n",
    "    def forward(self, x):\n",
    "        x = self.hidden(x)\n",
    "        x = self.out(x)\n",
    "        return x\n",
    "\n",
    "class GeneratorNet(nn.Module):\n",
    "    def __init__(self):\n",
    "        super(GeneratorNet, self).__init__()\n",
    "        n_features = 100\n",
    "        n_out = 784\n",
    "        \n",
    "        self.hidden = nn.Sequential(\n",
    "            nn.Linear(n_features, 512),\n",
    "            nn.LeakyReLU(0.2)\n",
    "        )\n",
    "        \n",
    "        self.out = nn.Sequential(\n",
    "            nn.Linear(512, n_out),\n",
    "            nn.Tanh()\n",
    "        )\n",
    "        \n",
    "    def forward(self, x):\n",
    "        x = self.hidden(x)\n",
    "        x = self.out(x)\n",
    "        return x"
   ]
  },
  {
   "cell_type": "code",
   "execution_count": null,
   "metadata": {
    "collapsed": true
   },
   "outputs": [],
   "source": [
    "def noise(size):\n",
    "    n = Variable(torch.randn(size, 100))\n",
    "    return n\n",
    "\n",
    "def ones_target(size):\n",
    "    data = Variable(torch.ones(size, 1))\n",
    "    return data\n",
    "\n",
    "def zeros_target(size):\n",
    "    data = Variable(torch.zeros(size,1))\n",
    "    return data"
   ]
  },
  {
   "cell_type": "code",
   "execution_count": null,
   "metadata": {
    "collapsed": true
   },
   "outputs": [],
   "source": [
    "def train_discriminator(optimizer, real_data, fake_data):\n",
    "    N = real_data.size(0)\n",
    "    optimizer.zero_grad()\n",
    "    \n",
    "    # train on real data\n",
    "    prediction_real = discriminator(real_data)\n",
    "    error_real = loss(prediction_real, ones_target(N))\n",
    "    error_real.backward()\n",
    "    \n",
    "    # train on fake data\n",
    "    prediction_fake = discriminator(fake_data)\n",
    "    error_fake = loss(prediction_fake, zeros_target(N))\n",
    "    error_fake.backward()\n",
    "    \n",
    "    # update\n",
    "    optimizer.step()\n",
    "    return error_real+error_fake, prediction_real, prediction_fake\n",
    "\n",
    "def train_generator(optimizer, fake_data):\n",
    "    N = fake_data.size(0)\n",
    "    \n",
    "    optimizer.zero_grad()\n",
    "    \n",
    "    # sample noise and generate fake data\n",
    "    prediction = discriminator(fake_data)\n",
    "    \n",
    "    error = loss(prediction, ones_target(N))\n",
    "    error.backward()\n",
    "    optimizer.step()\n",
    "    \n",
    "    return error"
   ]
  },
  {
   "cell_type": "code",
   "execution_count": null,
   "metadata": {
    "collapsed": true
   },
   "outputs": [],
   "source": [
    "\n",
    "discriminator = DiscriminatorNet()\n",
    "generator = GeneratorNet()\n",
    "\n",
    "d_optimizer = optim.Adam(discriminator.parameters(), lr = 0.0001)\n",
    "g_optimizer = optim.Adam(generator.parameters(), lr = 0.0001)\n",
    "\n",
    "loss = nn.BCELoss()"
   ]
  },
  {
   "cell_type": "code",
   "execution_count": null,
   "metadata": {},
   "outputs": [],
   "source": [
    "for epoch in range(num_epochs):\n",
    "    for data_real in enumerate(dataset):\n",
    "        ### 1. train discriminator\n",
    "        data_fake = generator(noise(N)).detach()\n",
    "        d_error, d_pred_real, d_pred_fake = train_discriminator(d_optimizer, data_real, data_fake)\n",
    "        \n",
    "        ### 2. train generator\n",
    "        data_fake = generator(noise(N))\n",
    "        g_error = train_generator(g_optimizer, data_fake)\n"
   ]
  },
  {
   "cell_type": "code",
   "execution_count": null,
   "metadata": {
    "collapsed": true
   },
   "outputs": [],
   "source": []
  }
 ],
 "metadata": {
  "kernelspec": {
   "display_name": "Python 3",
   "language": "python",
   "name": "python3"
  },
  "language_info": {
   "codemirror_mode": {
    "name": "ipython",
    "version": 3
   },
   "file_extension": ".py",
   "mimetype": "text/x-python",
   "name": "python",
   "nbconvert_exporter": "python",
   "pygments_lexer": "ipython3",
   "version": "3.6.3"
  }
 },
 "nbformat": 4,
 "nbformat_minor": 2
}
